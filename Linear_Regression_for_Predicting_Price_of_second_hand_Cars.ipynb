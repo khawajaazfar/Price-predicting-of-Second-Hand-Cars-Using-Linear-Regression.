{
  "cells": [
    {
      "cell_type": "code",
      "execution_count": null,
      "metadata": {
        "id": "Q_Wi6cQRp4Rv"
      },
      "outputs": [],
      "source": [
        "import tensorflow as tf### models\n",
        "import pandas as pd ### reading and processing data\n",
        "import seaborn as sns ### visualization\n",
        "import numpy as np### math computations\n",
        "import matplotlib.pyplot as plt### plotting bar chart\n",
        "from tensorflow.keras.layers import Normalization, Dense, InputLayer\n",
        "from tensorflow.keras.losses import MeanSquaredError, Huber, MeanAbsoluteError\n",
        "from tensorflow.keras.metrics import RootMeanSquaredError\n",
        "from tensorflow.keras.optimizers import Adam"
      ]
    },
    {
      "cell_type": "code",
      "execution_count": null,
      "metadata": {
        "id": "ZONqh3ie4nZW"
      },
      "outputs": [],
      "source": [
        "# from google.colab import drive\n",
        "# drive.mount('/content/drive')"
      ]
    },
    {
      "cell_type": "markdown",
      "metadata": {
        "id": "j6EtG3kpNKiT"
      },
      "source": [
        "## **Data Preparation**"
      ]
    },
    {
      "cell_type": "code",
      "execution_count": null,
      "metadata": {
        "id": "_wKxrpeci_gT"
      },
      "outputs": [],
      "source": [
        "data = pd.read_csv(\"/content/train.csv\", sep= \",\")\n",
        "data.head()"
      ]
    },
    {
      "cell_type": "code",
      "execution_count": null,
      "metadata": {
        "id": "txHuR6vUXK7-"
      },
      "outputs": [],
      "source": [
        "data.shape"
      ]
    },
    {
      "cell_type": "code",
      "execution_count": null,
      "metadata": {
        "id": "U_l14YAjXLDD"
      },
      "outputs": [],
      "source": [
        "# data = pd.read_csv(\"train_semi.csv\", \",\")\n",
        "# data.head()\n",
        "# data.shape"
      ]
    },
    {
      "cell_type": "code",
      "execution_count": null,
      "metadata": {
        "id": "Ssm3ewabXLFx"
      },
      "outputs": [],
      "source": [
        "sns.pairplot(data[['years', 'km', 'rating', 'condition', 'economy', 'top speed', 'hp', 'torque', 'current price']], diag_kind='kde')"
      ]
    },
    {
      "cell_type": "code",
      "execution_count": null,
      "metadata": {
        "id": "kbKG64L3XLIh"
      },
      "outputs": [],
      "source": [
        "tensor_data = tf.constant(data)\n",
        "tensor_data = tf.cast(tensor_data, tf.float32)\n",
        "print(tensor_data)"
      ]
    },
    {
      "cell_type": "code",
      "execution_count": null,
      "metadata": {
        "id": "7xxpRZBmXLLM"
      },
      "outputs": [],
      "source": [
        "tensor_data = tf.random.shuffle(tensor_data)\n",
        "print(tensor_data[:5])"
      ]
    },
    {
      "cell_type": "code",
      "execution_count": null,
      "metadata": {
        "id": "Q5kVK2udXLOE"
      },
      "outputs": [],
      "source": [
        "X = tensor_data[:,3:-1]\n",
        "print(X[:5])"
      ]
    },
    {
      "cell_type": "code",
      "execution_count": null,
      "metadata": {
        "id": "KOy9jxS-XLQu"
      },
      "outputs": [],
      "source": [
        "y = tensor_data[:,-1]\n",
        "print(y[:5].shape)\n",
        "y = tf.expand_dims(y, axis = -1)\n",
        "print(y[:5])"
      ]
    },
    {
      "cell_type": "code",
      "execution_count": null,
      "metadata": {
        "id": "1tGN1KNQXLTl"
      },
      "outputs": [],
      "source": [
        "normalizer = Normalization(axis = -1, mean = 5, variance = 4)\n",
        "x_normalized = tf.constant([[3,4,5,6,7],\n",
        "                            [4,5,6,7,8]])\n",
        "normalizer(x_normalized)"
      ]
    },
    {
      "cell_type": "code",
      "execution_count": null,
      "metadata": {
        "id": "ybWIORDvXLWq"
      },
      "outputs": [],
      "source": [
        "normalizer = Normalization()\n",
        "x_normalized = tf.constant([[3,4,5,6,7],\n",
        "                            [4,10,6,7,8],\n",
        "                            [32,1,56,3,5]])\n",
        "normalizer.adapt(x_normalized)\n",
        "normalizer(x_normalized)"
      ]
    },
    {
      "cell_type": "code",
      "execution_count": null,
      "metadata": {
        "id": "0JiTE-U_XLZK"
      },
      "outputs": [],
      "source": [
        "print(X.shape)"
      ]
    },
    {
      "cell_type": "code",
      "execution_count": null,
      "metadata": {
        "id": "NjehtcxAW6av"
      },
      "outputs": [],
      "source": [
        "TRAIN_RATIO = 0.8\n",
        "VAL_RATIO = 0.1\n",
        "TEST_RATIO = 0.1\n",
        "DATASET_SIZE = len(X)"
      ]
    },
    {
      "cell_type": "code",
      "execution_count": null,
      "metadata": {
        "id": "27pin8soXEue"
      },
      "outputs": [],
      "source": [
        "X_train = X[:int(DATASET_SIZE*TRAIN_RATIO)]\n",
        "y_train = y[:int(DATASET_SIZE*TRAIN_RATIO)]\n",
        "print(X_train.shape)\n",
        "print(y_train.shape)"
      ]
    },
    {
      "cell_type": "code",
      "execution_count": null,
      "metadata": {
        "id": "-9wd1j166mMG"
      },
      "outputs": [],
      "source": [
        "train_dataset = tf.data.Dataset.from_tensor_slices((X_train, y_train))\n",
        "train_dataset = train_dataset.shuffle(buffer_size = 8, reshuffle_each_iteration = True).batch(32).prefetch(tf.data.AUTOTUNE)"
      ]
    },
    {
      "cell_type": "code",
      "execution_count": null,
      "metadata": {
        "id": "woglsImt-fu1"
      },
      "outputs": [],
      "source": [
        "for x,y in train_dataset:\n",
        "  print(x,y)\n",
        "  break"
      ]
    },
    {
      "cell_type": "code",
      "execution_count": null,
      "metadata": {
        "id": "NCRgNb3dXge1"
      },
      "outputs": [],
      "source": [
        "X_val = X[int(DATASET_SIZE*TRAIN_RATIO):int(DATASET_SIZE*(TRAIN_RATIO+VAL_RATIO))]\n",
        "y_val = y[int(DATASET_SIZE*TRAIN_RATIO):int(DATASET_SIZE*(TRAIN_RATIO+VAL_RATIO))]\n",
        "print(X_val.shape)\n",
        "print(y_val.shape)"
      ]
    },
    {
      "cell_type": "code",
      "execution_count": null,
      "metadata": {
        "id": "aBwRpaG0-urM"
      },
      "outputs": [],
      "source": [
        "val_dataset = tf.data.Dataset.from_tensor_slices((X_val, y_val))\n",
        "val_dataset = train_dataset.shuffle(buffer_size = 8, reshuffle_each_iteration = True).batch(32).prefetch(tf.data.AUTOTUNE)"
      ]
    },
    {
      "cell_type": "code",
      "execution_count": null,
      "metadata": {
        "id": "A3ba-zUTX2Xv"
      },
      "outputs": [],
      "source": [
        "X_test = X[int(DATASET_SIZE*(TRAIN_RATIO+VAL_RATIO)):]\n",
        "y_test = y[int(DATASET_SIZE*(TRAIN_RATIO+VAL_RATIO)):]\n",
        "print(X_test.shape)\n",
        "print(y_test.shape)"
      ]
    },
    {
      "cell_type": "code",
      "execution_count": null,
      "metadata": {
        "id": "bd4gJi1n-1mW"
      },
      "outputs": [],
      "source": [
        "test_dataset = tf.data.Dataset.from_tensor_slices((X_test, y_test))\n",
        "test_dataset = train_dataset.shuffle(buffer_size = 8, reshuffle_each_iteration = True).batch(32).prefetch(tf.data.AUTOTUNE)"
      ]
    },
    {
      "cell_type": "code",
      "execution_count": null,
      "metadata": {
        "id": "c1k0dBjFXLcC"
      },
      "outputs": [],
      "source": [
        "normalizer = Normalization()\n",
        "normalizer.adapt(X_train)\n",
        "normalizer(X)[:5]"
      ]
    },
    {
      "cell_type": "code",
      "execution_count": null,
      "metadata": {
        "id": "eQdxWFy6XLej"
      },
      "outputs": [],
      "source": [
        "print(X[:5])"
      ]
    },
    {
      "cell_type": "markdown",
      "metadata": {
        "id": "CxlimoToLc4C"
      },
      "source": [
        "## **Model Creation and Training**"
      ]
    },
    {
      "cell_type": "code",
      "execution_count": null,
      "metadata": {
        "id": "-6u-a70uXLhR"
      },
      "outputs": [],
      "source": [
        "model = tf.keras.Sequential([\n",
        "                             InputLayer(input_shape = (8,)),\n",
        "                             normalizer,\n",
        "                             Dense(128, activation = \"relu\"),\n",
        "                             Dense(128, activation = \"relu\"),\n",
        "                             Dense(128, activation = \"relu\"),\n",
        "                             Dense(1),\n",
        "])\n",
        "model.summary()"
      ]
    },
    {
      "cell_type": "code",
      "execution_count": null,
      "metadata": {
        "id": "P0-MdiccV0r9"
      },
      "outputs": [],
      "source": [
        "tf.keras.utils.plot_model(model, to_file = \"model.png\", show_shapes=True)"
      ]
    },
    {
      "cell_type": "code",
      "execution_count": null,
      "metadata": {
        "id": "KckNWiWJV0um"
      },
      "outputs": [],
      "source": [
        "model.compile(optimizer = Adam(learning_rate = 0.1),\n",
        "              loss = MeanAbsoluteError(),\n",
        "              metrics = RootMeanSquaredError())"
      ]
    },
    {
      "cell_type": "code",
      "execution_count": null,
      "metadata": {
        "id": "-nQSZ1j0V0xG"
      },
      "outputs": [],
      "source": [
        "history = model.fit(train_dataset, validation_data=val_dataset, epochs = 100, verbose = 1)"
      ]
    },
    {
      "cell_type": "code",
      "execution_count": null,
      "metadata": {
        "id": "rclKXms6V0zg"
      },
      "outputs": [],
      "source": [
        "plt.plot(history.history['loss'])\n",
        "plt.plot(history.history['val_loss'])\n",
        "plt.title('model loss')\n",
        "plt.ylabel('loss')\n",
        "plt.xlabel('epoch')\n",
        "plt.legend(['train', 'val_loss'])\n",
        "plt.show()"
      ]
    },
    {
      "cell_type": "code",
      "execution_count": null,
      "metadata": {
        "id": "FcqUS-lcV010"
      },
      "outputs": [],
      "source": [
        "plt.plot(history.history['root_mean_squared_error'])\n",
        "plt.plot(history.history['val_root_mean_squared_error'])\n",
        "plt.title('model performance')\n",
        "plt.ylabel('rmse')\n",
        "plt.xlabel('epoch')\n",
        "plt.legend(['train', 'val'])\n",
        "plt.show()"
      ]
    },
    {
      "cell_type": "markdown",
      "metadata": {
        "id": "TSjCxq__LQkw"
      },
      "source": [
        "## **Model Evaluation and Testing**"
      ]
    },
    {
      "cell_type": "code",
      "execution_count": null,
      "metadata": {
        "id": "kuiLjiUxXLj4"
      },
      "outputs": [],
      "source": [
        "model.evaluate(X_test,y_test)"
      ]
    },
    {
      "cell_type": "code",
      "execution_count": null,
      "metadata": {
        "id": "53c0mlV2WGI2"
      },
      "outputs": [],
      "source": [
        "X_test.shape"
      ]
    },
    {
      "cell_type": "code",
      "execution_count": null,
      "metadata": {
        "id": "HeN7SJylXLpD"
      },
      "outputs": [],
      "source": [
        "model.predict(tf.expand_dims(X_test[0], axis = 0 ))"
      ]
    },
    {
      "cell_type": "code",
      "execution_count": null,
      "metadata": {
        "id": "5HbPIpC2XLrq"
      },
      "outputs": [],
      "source": [
        "y_test[0]"
      ]
    },
    {
      "cell_type": "code",
      "execution_count": null,
      "metadata": {
        "id": "jscJH2wLXLuK"
      },
      "outputs": [],
      "source": [
        "y_true = list(y_test[:,0].numpy())"
      ]
    },
    {
      "cell_type": "code",
      "execution_count": null,
      "metadata": {
        "id": "qWCd5NDZie1L"
      },
      "outputs": [],
      "source": [
        "y_pred = list(model.predict(X_test)[:,0])\n",
        "print(y_pred)"
      ]
    },
    {
      "cell_type": "code",
      "execution_count": null,
      "metadata": {
        "id": "FJceF2FrXLxB"
      },
      "outputs": [],
      "source": [
        "ind = np.arange(100)\n",
        "plt.figure(figsize=(40,20))\n",
        "\n",
        "width = 0.1\n",
        "\n",
        "plt.bar(ind, y_pred, width, label='Predicted Car Price')\n",
        "plt.bar(ind + width, y_true, width, label='Actual Car Price')\n",
        "\n",
        "plt.xlabel('Actual vs Predicted Prices')\n",
        "plt.ylabel('Car Price Prices')\n",
        "\n",
        "plt.show()"
      ]
    }
  ],
  "metadata": {
    "colab": {
      "provenance": []
    },
    "kernelspec": {
      "display_name": "Python 3",
      "name": "python3"
    },
    "language_info": {
      "name": "python"
    }
  },
  "nbformat": 4,
  "nbformat_minor": 0
}